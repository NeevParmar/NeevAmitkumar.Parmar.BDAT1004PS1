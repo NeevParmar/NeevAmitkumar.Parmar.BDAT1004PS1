{
 "cells": [
  {
   "cell_type": "markdown",
   "id": "883c488a",
   "metadata": {},
   "source": [
    "<h1><font color='#00FF00'>Problem Set 01</h1>\n",
    "    <li>BDAT1004-Data Programming</li>\n",
    "    <li>Neev Parmar</li>\n",
    "    <li>200474591</li>"
   ]
  },
  {
   "cell_type": "markdown",
   "id": "45b743c6",
   "metadata": {},
   "source": [
    "<h1><font color='#00FF00'>Question 6</h1>\n",
    "    You can turn a word into pig-Latin using the following two rules (simplified):\n",
    "    <ol>\n",
    "        <li>If the word starts with a consonant, move that letter to the end and append 'ay'. For example, 'happy' becomes 'appyhay' and 'pencil' becomes 'encilpay'.</li>\n",
    "        <li>If the word starts with a vowel, simply append 'way' to the end of the word. For example, 'enter' becomes 'enterway' and 'other' becomes 'otherway' . For our purposes, there are 5 vowels: a, e, i, o, u (so we count y as a consonant).</li>\n",
    "    </ol>"
   ]
  },
  {
   "cell_type": "code",
   "execution_count": 8,
   "id": "f372dceb",
   "metadata": {},
   "outputs": [
    {
     "name": "stdout",
     "output_type": "stream",
     "text": [
      "Convert message to pig latin: Happy\n",
      "appyhay\n"
     ]
    }
   ],
   "source": [
    "pigLatin = input(\"Convert message to pig latin: \")\n",
    "wordList = pigLatin.lower().split(\" \")\n",
    "vowels = ['a', 'e', 'i', 'o', 'u']\n",
    "pigLatin = []\n",
    "eachWord = []\n",
    "for word in wordList:\n",
    "    if word[0] in 'aeiou': #case where vowel is first\n",
    "        pigLatin.append(word + 'way')\n",
    "    else:\n",
    "        for letter in word:\n",
    "            if letter in 'aeiou':\n",
    "                pigLatin.append(word[word.index(letter):] + word[:word.index(letter)] +'ay')\n",
    "                break\n",
    "\n",
    "\n",
    "print(\" \".join(pigLatin))"
   ]
  },
  {
   "cell_type": "code",
   "execution_count": 7,
   "id": "174f1c88",
   "metadata": {},
   "outputs": [
    {
     "name": "stdout",
     "output_type": "stream",
     "text": [
      "Convert message to pig latin: Enter\n",
      "enterway\n"
     ]
    }
   ],
   "source": [
    "pigLatin = input(\"Convert message to pig latin: \")\n",
    "wordList = pigLatin.lower().split(\" \")\n",
    "vowels = ['a', 'e', 'i', 'o', 'u']\n",
    "pigLatin = []\n",
    "eachWord = []\n",
    "for word in wordList:\n",
    "    if word[0] in 'aeiou': #case where vowel is first\n",
    "        pigLatin.append(word + 'way')\n",
    "    else:\n",
    "        for letter in word:\n",
    "            if letter in 'aeiou':\n",
    "                pigLatin.append(word[word.index(letter):] + word[:word.index(letter)] +'ay')\n",
    "                break\n",
    "\n",
    "\n",
    "print(\" \".join(pigLatin))"
   ]
  },
  {
   "cell_type": "markdown",
   "id": "51c4bdbd",
   "metadata": {},
   "source": [
    "<h1><font color='#00FF00'>Question 7</h1>\n",
    "    File bloodtype1.txt records blood-types of patients (A, B, AB, O or OO) at a clinic. Write a function bldcount() that reads the file with name name and reports (i.e., prints) how many patients there are in each bloodtype."
   ]
  },
  {
   "cell_type": "code",
   "execution_count": 22,
   "id": "ab548823",
   "metadata": {},
   "outputs": [
    {
     "ename": "IndentationError",
     "evalue": "unexpected indent (<ipython-input-22-034b3d7bc0e3>, line 4)",
     "output_type": "error",
     "traceback": [
      "\u001b[1;36m  File \u001b[1;32m\"<ipython-input-22-034b3d7bc0e3>\"\u001b[1;36m, line \u001b[1;32m4\u001b[0m\n\u001b[1;33m    def bldcount(bloodtype.txt):\u001b[0m\n\u001b[1;37m    ^\u001b[0m\n\u001b[1;31mIndentationError\u001b[0m\u001b[1;31m:\u001b[0m unexpected indent\n"
     ]
    }
   ],
   "source": [
    "f = open(\"bloodtype.txt\",\"w\")\n",
    "f.write(\"AB AB B O A A AB O AB A O O A A A O O O AB O A A A A A AB AB A AB O AB O A O O O AB O AB AB AB A A O\")\n",
    "f.close\n",
    "    def bldcount(bloodtype.txt):\n",
    "        infile=open(bloodtype.txt, 'r')\n",
    "        content= infile.read()\n",
    "        infile.close()\n",
    "        content=content.split()\n",
    "        bloodtype = ['A','B','AB','O','OO']\n",
    "        for i in bloodtype:\n",
    "            if content.count(i)==0:\n",
    "                print('There are no patients of blood type',i+'.')\n",
    "                elif content.count(i)==1:\n",
    "                    print('There is one patient of blood type',i+'.')\n",
    "                    else:print('There are',content.count(i),'patients of blood type', i+'.')\n",
    "                        bldcount('bloodtype.txt')"
   ]
  },
  {
   "cell_type": "markdown",
   "id": "e14df04c",
   "metadata": {},
   "source": [
    "<h1><font color='#00FF00'>Question 8</h1>\n",
    "    Write a function curconv() that takes as input:\n",
    "    <ol>\n",
    "        <li>a currency represented using a string (e.g., 'JPY' for the Japanese Yen or 'EUR' for the Euro)</li>\n",
    "        <li>an amount</li>\n",
    "    </ol>"
   ]
  },
  {
   "cell_type": "code",
   "execution_count": 49,
   "id": "d282ccd4",
   "metadata": {},
   "outputs": [
    {
     "name": "stdout",
     "output_type": "stream",
     "text": [
      "What currency do you want to convert to? euro\n",
      "How much would you like to convert? 100\n",
      "You must pick either dollar, euro or yen.\n",
      "100\n"
     ]
    }
   ],
   "source": [
    "dollar = 0\n",
    "euro = 0\n",
    "yen = 0\n",
    "\n",
    "\n",
    "convert_to = input (\"What currency do you want to convert to? \")\n",
    "amount = input(\"How much would you like to convert? \")\n",
    "\n",
    "\n",
    "\n",
    "\n",
    "if convert_to == dollar:\n",
    "    amount = amount * 1.3\n",
    "elif convert_to == euro:\n",
    "     amount = amount * 1.17\n",
    "elif convert_to == yen:\n",
    "    amount = amount * 133.66\n",
    "else:\n",
    "    print(\"You must pick either dollar, euro or yen.\")\n",
    "\n",
    "print(amount)\n"
   ]
  },
  {
   "cell_type": "markdown",
   "id": "d04324ad",
   "metadata": {},
   "source": [
    "<h1><font color='#00FF00'>Question 9</h1>\n",
    "    Each of the following will cause an exception (an error). Identify what type of exception each will cause.\n",
    "    <ol>\n",
    "        <li>Trying to add incompatible variables, as in adding 6 + ‘a’</li>\n",
    "        <li>Referring to the 12th item of a list that has only 10 items</li>\n",
    "        <li>Using a value that is out of range for a function’s input, such as calling math.sqrt( 1.0)</li>\n",
    "        <li>Using an undeclared variable, such as print(x)\n",
    "when x has not been defined</li>\n",
    "        <li>Trying to open a file that does not exist, such as mistyping the file name or looking in the wrong directory</li>\n",
    "    </ol>\n",
    "        "
   ]
  },
  {
   "cell_type": "code",
   "execution_count": 52,
   "id": "b9d7e921",
   "metadata": {},
   "outputs": [
    {
     "ename": "TypeError",
     "evalue": "unsupported operand type(s) for +: 'int' and 'str'",
     "output_type": "error",
     "traceback": [
      "\u001b[1;31m---------------------------------------------------------------------------\u001b[0m",
      "\u001b[1;31mTypeError\u001b[0m                                 Traceback (most recent call last)",
      "\u001b[1;32m<ipython-input-52-6c03def12e07>\u001b[0m in \u001b[0;36m<module>\u001b[1;34m\u001b[0m\n\u001b[1;32m----> 1\u001b[1;33m \u001b[1;36m6\u001b[0m \u001b[1;33m+\u001b[0m\u001b[1;34m'a'\u001b[0m\u001b[1;33m\u001b[0m\u001b[1;33m\u001b[0m\u001b[0m\n\u001b[0m",
      "\u001b[1;31mTypeError\u001b[0m: unsupported operand type(s) for +: 'int' and 'str'"
     ]
    }
   ],
   "source": [
    "6 +'a'"
   ]
  },
  {
   "cell_type": "markdown",
   "id": "70ae9bd5",
   "metadata": {},
   "source": [
    "<h1><font size='3' color='#8A2BE2'>Unsupported operand type error</h1>\n",
    "    These errors mean the same thing: you are trying to perform a mathematical operation on a string and a numerical value."
   ]
  },
  {
   "cell_type": "code",
   "execution_count": 53,
   "id": "730d1fa9",
   "metadata": {},
   "outputs": [
    {
     "ename": "IndexError",
     "evalue": "list index out of range",
     "output_type": "error",
     "traceback": [
      "\u001b[1;31m---------------------------------------------------------------------------\u001b[0m",
      "\u001b[1;31mIndexError\u001b[0m                                Traceback (most recent call last)",
      "\u001b[1;32m<ipython-input-53-8202b8a43a37>\u001b[0m in \u001b[0;36m<module>\u001b[1;34m\u001b[0m\n\u001b[0;32m      1\u001b[0m \u001b[0mlst\u001b[0m \u001b[1;33m=\u001b[0m \u001b[1;33m[\u001b[0m\u001b[1;36m1\u001b[0m\u001b[1;33m,\u001b[0m\u001b[1;36m2\u001b[0m\u001b[1;33m,\u001b[0m\u001b[1;36m3\u001b[0m\u001b[1;33m,\u001b[0m\u001b[1;36m4\u001b[0m\u001b[1;33m,\u001b[0m\u001b[1;36m5\u001b[0m\u001b[1;33m,\u001b[0m\u001b[1;36m6\u001b[0m\u001b[1;33m,\u001b[0m\u001b[1;36m7\u001b[0m\u001b[1;33m,\u001b[0m\u001b[1;36m8\u001b[0m\u001b[1;33m,\u001b[0m\u001b[1;36m9\u001b[0m\u001b[1;33m,\u001b[0m\u001b[1;36m10\u001b[0m\u001b[1;33m]\u001b[0m\u001b[1;33m\u001b[0m\u001b[1;33m\u001b[0m\u001b[0m\n\u001b[1;32m----> 2\u001b[1;33m \u001b[0mprint\u001b[0m\u001b[1;33m(\u001b[0m\u001b[0mlst\u001b[0m\u001b[1;33m[\u001b[0m\u001b[1;36m12\u001b[0m\u001b[1;33m]\u001b[0m\u001b[1;33m)\u001b[0m\u001b[1;33m\u001b[0m\u001b[1;33m\u001b[0m\u001b[0m\n\u001b[0m",
      "\u001b[1;31mIndexError\u001b[0m: list index out of range"
     ]
    }
   ],
   "source": [
    "lst = [1,2,3,4,5,6,7,8,9,10]\n",
    "print(lst[12])"
   ]
  },
  {
   "cell_type": "markdown",
   "id": "9b876159",
   "metadata": {},
   "source": [
    "<h1><font size='3' color='#8A2BE2'>list index out of range</h1>\n",
    "    The error “list index out of range” arises if you access invalid indices in your Python list."
   ]
  },
  {
   "cell_type": "code",
   "execution_count": 54,
   "id": "e29122a4",
   "metadata": {},
   "outputs": [
    {
     "ename": "ValueError",
     "evalue": "math domain error",
     "output_type": "error",
     "traceback": [
      "\u001b[1;31m---------------------------------------------------------------------------\u001b[0m",
      "\u001b[1;31mValueError\u001b[0m                                Traceback (most recent call last)",
      "\u001b[1;32m<ipython-input-54-d39e523296ce>\u001b[0m in \u001b[0;36m<module>\u001b[1;34m\u001b[0m\n\u001b[0;32m      1\u001b[0m \u001b[1;32mimport\u001b[0m \u001b[0mmath\u001b[0m\u001b[1;33m\u001b[0m\u001b[1;33m\u001b[0m\u001b[0m\n\u001b[1;32m----> 2\u001b[1;33m \u001b[0mmath\u001b[0m\u001b[1;33m.\u001b[0m\u001b[0msqrt\u001b[0m\u001b[1;33m(\u001b[0m\u001b[1;33m-\u001b[0m\u001b[1;36m1.0\u001b[0m\u001b[1;33m)\u001b[0m\u001b[1;33m\u001b[0m\u001b[1;33m\u001b[0m\u001b[0m\n\u001b[0m",
      "\u001b[1;31mValueError\u001b[0m: math domain error"
     ]
    }
   ],
   "source": [
    "import math\n",
    "math.sqrt(-1.0)"
   ]
  },
  {
   "cell_type": "markdown",
   "id": "c8de8f4b",
   "metadata": {},
   "source": [
    "<h1><font size='3' color='#8A2BE2'>math domain error</h1>\n",
    "    The math domain error appears if you pass a negative argument into the math."
   ]
  },
  {
   "cell_type": "code",
   "execution_count": 56,
   "id": "f32fb41c",
   "metadata": {},
   "outputs": [
    {
     "ename": "NameError",
     "evalue": "name 'x' is not defined",
     "output_type": "error",
     "traceback": [
      "\u001b[1;31m---------------------------------------------------------------------------\u001b[0m",
      "\u001b[1;31mNameError\u001b[0m                                 Traceback (most recent call last)",
      "\u001b[1;32m<ipython-input-56-bddb94960844>\u001b[0m in \u001b[0;36m<module>\u001b[1;34m\u001b[0m\n\u001b[0;32m      1\u001b[0m \u001b[0my\u001b[0m\u001b[1;33m=\u001b[0m\u001b[1;36m10\u001b[0m\u001b[1;33m\u001b[0m\u001b[1;33m\u001b[0m\u001b[0m\n\u001b[0;32m      2\u001b[0m \u001b[0mz\u001b[0m\u001b[1;33m=\u001b[0m\u001b[1;36m11\u001b[0m\u001b[1;33m\u001b[0m\u001b[1;33m\u001b[0m\u001b[0m\n\u001b[1;32m----> 3\u001b[1;33m \u001b[0mprint\u001b[0m\u001b[1;33m(\u001b[0m\u001b[0mx\u001b[0m\u001b[1;33m)\u001b[0m\u001b[1;33m\u001b[0m\u001b[1;33m\u001b[0m\u001b[0m\n\u001b[0m",
      "\u001b[1;31mNameError\u001b[0m: name 'x' is not defined"
     ]
    }
   ],
   "source": [
    "y=10\n",
    "z=11\n",
    "print(x)"
   ]
  },
  {
   "cell_type": "markdown",
   "id": "e466e4cf",
   "metadata": {},
   "source": [
    "<h1><font size='3' color='#8A2BE2'>name 'x' is not defined</h1>\n",
    " This error occurs when a name (a variable or function name) is used that Python does not know about.   "
   ]
  },
  {
   "cell_type": "code",
   "execution_count": 58,
   "id": "5f80e852",
   "metadata": {},
   "outputs": [
    {
     "ename": "FileNotFoundError",
     "evalue": "[Errno 2] No such file or directory: 'mydata1.txt'",
     "output_type": "error",
     "traceback": [
      "\u001b[1;31m---------------------------------------------------------------------------\u001b[0m",
      "\u001b[1;31mFileNotFoundError\u001b[0m                         Traceback (most recent call last)",
      "\u001b[1;32m<ipython-input-58-75dc7c1e04fb>\u001b[0m in \u001b[0;36m<module>\u001b[1;34m\u001b[0m\n\u001b[1;32m----> 1\u001b[1;33m \u001b[0mf\u001b[0m \u001b[1;33m=\u001b[0m \u001b[0mopen\u001b[0m\u001b[1;33m(\u001b[0m\u001b[1;34m\"mydata1.txt\"\u001b[0m\u001b[1;33m,\u001b[0m\u001b[1;34m\"r\"\u001b[0m\u001b[1;33m)\u001b[0m\u001b[1;33m\u001b[0m\u001b[1;33m\u001b[0m\u001b[0m\n\u001b[0m",
      "\u001b[1;31mFileNotFoundError\u001b[0m: [Errno 2] No such file or directory: 'mydata1.txt'"
     ]
    }
   ],
   "source": [
    "f = open(\"mydata1.txt\",\"r\")"
   ]
  },
  {
   "cell_type": "markdown",
   "id": "b50e54d3",
   "metadata": {},
   "source": [
    "<h1><font size='3' color='#8A2BE2'>name 'x' is not defined</h1>\n",
    "    This error tells you that you are trying to access a file or folder that does not exist."
   ]
  },
  {
   "cell_type": "markdown",
   "id": "0e674187",
   "metadata": {},
   "source": [
    "<h1><font color = '#00FF00'>Question 10</h1>\n",
    "    Encryption is the process of hiding the meaning of a text by substituting letters in the message with other letters, according to some system. If the process is successful, no one but the intended recipient can understand the encrypted message."
   ]
  },
  {
   "cell_type": "code",
   "execution_count": 60,
   "id": "9e7e6bb4",
   "metadata": {},
   "outputs": [
    {
     "name": "stdout",
     "output_type": "stream",
     "text": [
      "Plain text: The quick red fox got bored and went home\n",
      "Encrypted text: Whe quick red fox got bored and went home\n"
     ]
    }
   ],
   "source": [
    "shift = 3 \n",
    "\n",
    "text = \"The quick red fox got bored and went home\"\n",
    "\n",
    "encryption = \"\"\n",
    "\n",
    "for c in text:\n",
    "\n",
    "   \n",
    "    if c.isupper():\n",
    "\n",
    "       \n",
    "        c_unicode = ord(c)\n",
    "\n",
    "        c_index = ord(c) - ord(\"A\")\n",
    "\n",
    "        new_index = (c_index + shift) % 26\n",
    "\n",
    "       \n",
    "        new_unicode = new_index + ord(\"A\")\n",
    "\n",
    "        new_character = chr(new_unicode)\n",
    "\n",
    "        \n",
    "        encryption = encryption + new_character\n",
    "\n",
    "    else:\n",
    "\n",
    "      \n",
    "        encryption += c\n",
    "        \n",
    "print(\"Plain text:\",text)\n",
    "\n",
    "print(\"Encrypted text:\",encryption)"
   ]
  },
  {
   "cell_type": "code",
   "execution_count": 61,
   "id": "da087dda",
   "metadata": {},
   "outputs": [
    {
     "name": "stdout",
     "output_type": "stream",
     "text": [
      "Count of all characters in GeeksforGeeks is :\n",
      " {'T': 1, 'h': 2, 'e': 5, ' ': 8, 'q': 1, 'u': 1, 'i': 1, 'c': 1, 'k': 1, 'r': 2, 'd': 3, 'f': 1, 'o': 4, 'x': 1, 'g': 1, 't': 2, 'b': 1, 'a': 1, 'n': 2, 'w': 1, 'm': 1}\n"
     ]
    }
   ],
   "source": [
    "test_str = \"The quick red fox got bored and went home\"\n",
    "  \n",
    "\n",
    "all_freq = {}\n",
    "  \n",
    "for i in test_str:\n",
    "    if i in all_freq:\n",
    "        all_freq[i] += 1\n",
    "    else:\n",
    "        all_freq[i] = 1\n",
    "  \n",
    "\n",
    "print (\"Count of all characters in GeeksforGeeks is :\\n \"\n",
    "                                        +  str(all_freq))"
   ]
  },
  {
   "cell_type": "markdown",
   "id": "1d4e067d",
   "metadata": {},
   "source": [
    "<p>Reference link</p>\n",
    "<a href=\"https://likegeeks.com/python-caesar-cipher/\">https://likegeeks.com/python-caesar-cipher/</a>"
   ]
  },
  {
   "cell_type": "code",
   "execution_count": null,
   "id": "14634b96",
   "metadata": {},
   "outputs": [],
   "source": []
  }
 ],
 "metadata": {
  "kernelspec": {
   "display_name": "Python 3",
   "language": "python",
   "name": "python3"
  },
  "language_info": {
   "codemirror_mode": {
    "name": "ipython",
    "version": 3
   },
   "file_extension": ".py",
   "mimetype": "text/x-python",
   "name": "python",
   "nbconvert_exporter": "python",
   "pygments_lexer": "ipython3",
   "version": "3.8.8"
  }
 },
 "nbformat": 4,
 "nbformat_minor": 5
}
