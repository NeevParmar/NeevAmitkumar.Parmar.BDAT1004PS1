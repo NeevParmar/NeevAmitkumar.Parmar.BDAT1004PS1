{
 "cells": [
  {
   "cell_type": "markdown",
   "id": "5e75b7fa",
   "metadata": {},
   "source": [
    "<h1><font color='#00FF00'>Problen Set 01</h1>\n",
    "    <li>BDTA1004-Data Programming</li>\n",
    "    <li>Neev Parmar</li>\n",
    "    <li>200474591</li>\n"
   ]
  },
  {
   "cell_type": "markdown",
   "id": "fdc5b8d9",
   "metadata": {},
   "source": [
    "<h1><font color='#00FF00'>Question:1</h1>\n",
    "    What data type is each of the following?"
   ]
  },
  {
   "cell_type": "markdown",
   "id": "3440c444",
   "metadata": {},
   "source": [
    "| SNO. | DATA   | DATATYPE |\n",
    "|------|--------|----------|\n",
    "| 1    | 5      | Int      |\n",
    "| 2    | 5.0    | Float    |\n",
    "| 3    | 5>1    | Boolean  |\n",
    "| 4    | '5'    | Char     |\n",
    "| 5    | 5*2    | Int      |\n",
    "| 6    | '5'*2  | String   |\n",
    "| 7    | '5'+'2'| String   |\n",
    "| 8    | 5/2    | Int      |\n",
    "| 9    | 5%2    | Int      |\n",
    "| 10   | {5,2,1}| Arry     |\n",
    "| 11   | 5==3   | Boolean  |\n",
    "| 12   | pi     | Double   |\n",
    "\n"
   ]
  },
  {
   "cell_type": "markdown",
   "id": "b9cc4a41",
   "metadata": {},
   "source": [
    "<h1><font color='#00FF00'>Question:2</h1>\n",
    "    Write (and evaluate) C# expressions that answer these questions:\n",
    "    <ol>\n",
    "         <li>How many letters are there in 'Supercalifragilisticexpialidocious'?</li>\n",
    "         <li>Does 'Supercalifragilisticexpialidocious' contain 'ice' as a substring</li>\n",
    "         <li>Which of the following words is the longest:\n",
    "Supercalifragilisticexpialidocious, Honorificabilitudinitatibus, or\n",
    "Bababadalgharaghtakamminarronnkonn?</li>\n",
    "         <li>Which composer comes first in the dictionary: 'Berlioz', 'Borodin', 'Brian',\n",
    "'Bartok', 'Bellini', 'Buxtehude', 'Bernstein'. Which one comes last?</li>\n",
    "      </ol> "
   ]
  },
  {
   "cell_type": "code",
   "execution_count": 3,
   "id": "9650197f",
   "metadata": {},
   "outputs": [
    {
     "name": "stdout",
     "output_type": "stream",
     "text": [
      " The length of 'Supercalifragilisticexpialidocious' is 34\r\n"
     ]
    }
   ],
   "source": [
    "string str = \"Supercalifragilisticexpialidocious\";\n",
    "Console.WriteLine(\" The length of '{0}' is {1}\", str, str.Length);"
   ]
  },
  {
   "cell_type": "code",
   "execution_count": 6,
   "id": "5cca9a28",
   "metadata": {},
   "outputs": [
    {
     "name": "stdout",
     "output_type": "stream",
     "text": [
      "'ice' is in the string 'Supercalifragilisticexpialidocious': True\n",
      "'ice begins at character position 19\n"
     ]
    }
   ],
   "source": [
    "string s1 = \"Supercalifragilisticexpialidocious\";\n",
    "string s2 = \"ice\";\n",
    "bool b = s1.Contains(s2);\n",
    "Console.WriteLine(\"'{0}' is in the string '{1}': {2}\",\n",
    "                s2, s1, b);\n",
    "if (b) {\n",
    "    int index = s1.IndexOf(s2);\n",
    "    if (index >= 0)\n",
    "        Console.WriteLine(\"'{0} begins at character position {1}\",\n",
    "                      s2, index + 1);\n",
    "                      }"
   ]
  },
  {
   "cell_type": "code",
   "execution_count": 18,
   "id": "584a6fb4",
   "metadata": {
    "scrolled": false
   },
   "outputs": [
    {
     "data": {
      "text/plain": [
       "Supercalifragilisticexpialidocious"
      ]
     },
     "execution_count": 18,
     "metadata": {},
     "output_type": "execute_result"
    }
   ],
   "source": [
    "string s1 = \"Supercalifragilisticexpialidocious\";\n",
    "string s2 = \"Honorificabilitudinitatibus\";\n",
    "string s3 = \"Bababadalgharaghtakamminarronnkonn\";\n",
    "{\n",
    "    if(s1.Length >= s2.Length)\n",
    "    {\n",
    "        return s1;\n",
    "    }\n",
    "    else if(s2.Length >= s3.Length)\n",
    "    {\n",
    "        return s2;\n",
    "    }\n",
    "    else\n",
    "    {\n",
    "        return s3;\n",
    "    }\n",
    "}\n",
    "\n",
    "\n",
    "\n"
   ]
  },
  {
   "cell_type": "code",
   "execution_count": 20,
   "id": "1e8c445a",
   "metadata": {},
   "outputs": [
    {
     "name": "stdout",
     "output_type": "stream",
     "text": [
      "Bartok\n",
      "Bellini\n",
      "Berlioz\n",
      "Bernstein\n",
      "Borodin\n",
      "Brian\n",
      "Buxtehude\n"
     ]
    }
   ],
   "source": [
    "List<string> names = new List<string>();\n",
    "            names.Add(\"Berlioz\");\n",
    "            names.Add(\"Borodin\");\n",
    "            names.Add(\"Brian\");\n",
    "            names.Add(\"Bartok\");\n",
    "            names.Add(\"Bellini\");\n",
    "            names.Add(\"Buxtehude\");\n",
    "            names.Add(\"Bernstein\");\n",
    "            names.Sort();\n",
    "            foreach (string s in names) \n",
    "            Console.WriteLine(s);\n",
    "            Console.ReadLine();"
   ]
  },
  {
   "cell_type": "markdown",
   "id": "813ccbe8",
   "metadata": {},
   "source": [
    "<h1><font color='#00FF00'>Question:3</h1>\n",
    "    Implement function triangleArea(a,b,c) that takes as input the lengths of the 3\n",
    "sides of a triangle and returns the area of the triangle. By Heron's formula, the area\n",
    "of a triangle with side lengths a, b, and c is\n",
    "s(s - a)(s -b)(s -c), where\n",
    "s = (a + b + c) /2."
   ]
  },
  {
   "cell_type": "code",
   "execution_count": 30,
   "id": "602aece2",
   "metadata": {},
   "outputs": [
    {
     "data": {
      "text/plain": [
       "1.7320508"
      ]
     },
     "execution_count": 30,
     "metadata": {},
     "output_type": "execute_result"
    }
   ],
   "source": [
    " \n",
    "        float a = 2.0f;\n",
    "        float b = 2.0f;\n",
    "        float c = 2.0f;\n",
    "        \n",
    "        float s = (a + b + c) / 2;\n",
    "        return (float)Math.Sqrt(s * (s - a) *\n",
    "                            (s - b) * (s - c));\n",
    "    \n",
    "          Console.Write(\"Area is \" + findArea(a, b, c));\n",
    "    "
   ]
  },
  {
   "cell_type": "markdown",
   "id": "9d0844b0",
   "metadata": {},
   "source": [
    "<h1><font color='#00FF00'>Question:4</h1>\n",
    "    Write a program in C# Sharp to separate odd and even integers in separate arrays."
   ]
  },
  {
   "cell_type": "code",
   "execution_count": 34,
   "id": "dfbb3354",
   "metadata": {
    "scrolled": true
   },
   "outputs": [
    {
     "name": "stdout",
     "output_type": "stream",
     "text": [
      "Even numbers...\n",
      "42\n",
      "56\n",
      "32\n",
      "Odd numbers...\n",
      "25\n",
      "47\n"
     ]
    }
   ],
   "source": [
    "int[] arr1 = new int[] {25,47,42,56,32};\n",
    "         int[] arr2 = new int[5];\n",
    "         int[] arr3 = new int[5];\n",
    "         int i, j = 0, k = 0;\n",
    "         for (i = 0; i < 5; i++) {\n",
    "            if (arr1[i] % 2 == 0) {\n",
    "               arr2[j] = arr1[i];\n",
    "               j++;\n",
    "            } else {\n",
    "               arr3[k] = arr1[i];\n",
    "               k++;\n",
    "            }\n",
    "         }\n",
    "         Console.WriteLine(\"Even numbers...\");\n",
    "         for (i = 0; i < j; i++) {\n",
    "            Console.WriteLine(arr2[i]);\n",
    "         }\n",
    "         Console.WriteLine(\"Odd numbers...\");\n",
    "         for (i = 0; i < k; i++) {\n",
    "            Console.WriteLine(arr3[i]);\n",
    "         }"
   ]
  },
  {
   "cell_type": "markdown",
   "id": "14f33cd2",
   "metadata": {},
   "source": [
    "<h1><font color='#00FF00'>Question:5</h1>\n",
    "<ol>\n",
    "<li>Write a function inside(x,y,x1,y1,x2,y2) that returns True or False depending on whether the point (x,y) lies in the rectangle with lower left corner (x1,y1) and upper right corner (x2,y2).</li>\n",
    "<li>Use function inside() from part a. to write an expression that tests whether the point (1,1) lies in both of the following rectangles: one with lower left corner (0.3, 0.5) and upper right corner (1.1, 0.7) and the other with lower left corner (0.5, 0.2) and upper right corner (1.1, 2).</li>\n",
    "</ol>\n"
   ]
  },
  {
   "cell_type": "code",
   "execution_count": 40,
   "id": "1db18aef",
   "metadata": {},
   "outputs": [
    {
     "name": "stdout",
     "output_type": "stream",
     "text": [
      "TRUE"
     ]
    }
   ],
   "source": [
    "static bool FindPoint(int x1, int y1, int x2,\n",
    "                      int y2, int x, int y)\n",
    "{\n",
    "if (x > x1 && x < x2 &&\n",
    "    y > y1 && y < y2)\n",
    "    return true;\n",
    " \n",
    "return false;\n",
    "}\n",
    "    int x1 = 0, y1 = 0,\n",
    "        x2 = 2, y2 = 3;\n",
    " \n",
    "    // given point\n",
    "    int x = 1, y = 1;\n",
    " \n",
    "    // function call\n",
    "    if (FindPoint(x1, y1, x2, y2, x, y))\n",
    "        Console.Write(\"TRUE\");\n",
    "    else\n",
    "        Console.Write(\"False\");\n"
   ]
  },
  {
   "cell_type": "code",
   "execution_count": 41,
   "id": "6786378d",
   "metadata": {},
   "outputs": [
    {
     "name": "stdout",
     "output_type": "stream",
     "text": [
      "False"
     ]
    }
   ],
   "source": [
    "static bool FindPoint(int x1, int y1, int x2,\n",
    "                      int y2, int x, int y)\n",
    "{\n",
    "if (x > x1 && x < x2 &&\n",
    "    y > y1 && y < y2)\n",
    "    return true;\n",
    " \n",
    "return false;\n",
    "}\n",
    "    int x1 = 0, y1 = 0,\n",
    "        x2 = 2, y2 = 3;\n",
    " \n",
    "    // given point\n",
    "    int x = -1, y = -1;\n",
    " \n",
    "    // function call\n",
    "    if (FindPoint(x1, y1, x2, y2, x, y))\n",
    "        Console.Write(\"True\");\n",
    "    else\n",
    "        Console.Write(\"False\");"
   ]
  },
  {
   "cell_type": "code",
   "execution_count": 45,
   "id": "9e148a84",
   "metadata": {},
   "outputs": [
    {
     "name": "stdout",
     "output_type": "stream",
     "text": [
      "False"
     ]
    }
   ],
   "source": [
    "static bool FindPoint(double x1, double y1, double x2,\n",
    "                      double y2, double x, double y)\n",
    "{\n",
    "if (x > x1 && x < x2 &&\n",
    "    y > y1 && y < y2)\n",
    "    return true;\n",
    " \n",
    "return false;\n",
    "}\n",
    "    double x1 = 0.3, y1 = 0.5,\n",
    "        x2 = 1.1, y2 = 0.7;\n",
    " \n",
    "    // given point\n",
    "    double x = 1, y = 1;\n",
    " \n",
    "    // function call\n",
    "    if (FindPoint(x1, y1, x2, y2, x, y))\n",
    "        Console.Write(\"True\");\n",
    "    else\n",
    "        Console.Write(\"False\");"
   ]
  },
  {
   "cell_type": "code",
   "execution_count": 46,
   "id": "db5a1b7e",
   "metadata": {},
   "outputs": [
    {
     "name": "stdout",
     "output_type": "stream",
     "text": [
      "True"
     ]
    }
   ],
   "source": [
    "static bool FindPoint(double x1, double y1, double x2,\n",
    "                      double y2, double x, double y)\n",
    "{\n",
    "if (x > x1 && x < x2 &&\n",
    "    y > y1 && y < y2)\n",
    "    return true;\n",
    " \n",
    "return false;\n",
    "}\n",
    "    double x1 = 0.5, y1 = 0.2,\n",
    "        x2 = 1.1, y2 = 2;\n",
    " \n",
    "    // given point\n",
    "    double x = 1, y = 1;\n",
    " \n",
    "    // function call\n",
    "    if (FindPoint(x1, y1, x2, y2, x, y))\n",
    "        Console.Write(\"True\");\n",
    "    else\n",
    "        Console.Write(\"False\");"
   ]
  },
  {
   "cell_type": "code",
   "execution_count": null,
   "id": "c8df82f5",
   "metadata": {},
   "outputs": [],
   "source": []
  }
 ],
 "metadata": {
  "kernelspec": {
   "display_name": ".NET (C#)",
   "language": "C#",
   "name": ".net-csharp"
  },
  "language_info": {
   "file_extension": ".cs",
   "mimetype": "text/x-csharp",
   "name": "C#",
   "pygments_lexer": "csharp",
   "version": "8.0"
  }
 },
 "nbformat": 4,
 "nbformat_minor": 5
}
